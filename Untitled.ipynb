{
 "cells": [
  {
   "cell_type": "code",
   "execution_count": 1,
   "id": "c3b5fbb0-a045-419c-8cd2-67318c574ce0",
   "metadata": {},
   "outputs": [],
   "source": [
    "from urllib.parse import urlparse, quote, urljoin, parse_qs, parse_qsl"
   ]
  },
  {
   "cell_type": "code",
   "execution_count": 2,
   "id": "f7b4665b-550a-4324-b7da-cebbb4ee29d3",
   "metadata": {},
   "outputs": [],
   "source": [
    "url ='https://tr.indeed.com/jobs?q=python%20developer%20&l&vjk=657612a95903987a' "
   ]
  },
  {
   "cell_type": "code",
   "execution_count": 3,
   "id": "1f343ea9-d45d-49aa-a4b2-a452c475538b",
   "metadata": {},
   "outputs": [
    {
     "data": {
      "text/plain": [
       "ParseResult(scheme='https', netloc='tr.indeed.com', path='/jobs', params='', query='q=python%20developer%20&l&vjk=657612a95903987a', fragment='')"
      ]
     },
     "execution_count": 3,
     "metadata": {},
     "output_type": "execute_result"
    }
   ],
   "source": [
    "urlparse(url)"
   ]
  },
  {
   "cell_type": "code",
   "execution_count": 4,
   "id": "03948b19-a1d4-444f-b859-48cd30d114b0",
   "metadata": {},
   "outputs": [
    {
     "data": {
      "text/plain": [
       "{'https://tr.indeed.com/jobs?q': ['python developer '],\n",
       " 'vjk': ['657612a95903987a']}"
      ]
     },
     "execution_count": 4,
     "metadata": {},
     "output_type": "execute_result"
    }
   ],
   "source": [
    "parse_qs(url)"
   ]
  },
  {
   "cell_type": "code",
   "execution_count": 5,
   "id": "1fc7f8a4-0a5a-46c3-b9fa-ed689930ef3f",
   "metadata": {},
   "outputs": [],
   "source": [
    "url2 = \"https://tr.indeed.com/jobs?q=python%20developer&l=istanbul\""
   ]
  },
  {
   "cell_type": "code",
   "execution_count": 6,
   "id": "1a16706b-9393-446d-8b6c-dbb15819061a",
   "metadata": {},
   "outputs": [
    {
     "data": {
      "text/plain": [
       "{'https://tr.indeed.com/jobs?q': ['python developer'], 'l': ['istanbul']}"
      ]
     },
     "execution_count": 6,
     "metadata": {},
     "output_type": "execute_result"
    }
   ],
   "source": [
    "parse_qs(url2)"
   ]
  },
  {
   "cell_type": "code",
   "execution_count": 8,
   "id": "f12254f6-556e-4ea4-95f4-447e07acbb6c",
   "metadata": {},
   "outputs": [
    {
     "name": "stdin",
     "output_type": "stream",
     "text": [
      "query:\n",
      " python developer\n",
      "location:\n",
      " bursa\n"
     ]
    },
    {
     "name": "stdout",
     "output_type": "stream",
     "text": [
      "{'q': 'python developer', 'l': 'bursa'}\n"
     ]
    }
   ],
   "source": [
    "query = input(\"query:\\n\")\n",
    "location = input(\"location:\\n\")\n",
    "\n",
    "params = {'q':query , 'l':location}\n",
    "print(params)"
   ]
  },
  {
   "cell_type": "code",
   "execution_count": 15,
   "id": "4c4476fe-b3e4-4271-8537-7ca6c7716ed2",
   "metadata": {},
   "outputs": [
    {
     "data": {
      "text/plain": [
       "'https://tr.indeed.com/python-developer-jobs-in-bursa'"
      ]
     },
     "execution_count": 15,
     "metadata": {},
     "output_type": "execute_result"
    }
   ],
   "source": [
    "import requests\n",
    "baseurl = urlparse(url).netloc\n",
    "requests.get(\"https://tr.indeed.com/jobs\", params = params).url"
   ]
  },
  {
   "cell_type": "code",
   "execution_count": 16,
   "id": "bd50d78d-9ff5-4742-851a-5275ebedb4f6",
   "metadata": {},
   "outputs": [
    {
     "data": {
      "text/plain": [
       "{'/jobs?q': ['python developer'],\n",
       " 'l': ['istanbul'],\n",
       " 'ts': ['1648656157857'],\n",
       " 'rs': ['1'],\n",
       " 'vjk': ['1ca2f79b63043079']}"
      ]
     },
     "execution_count": 16,
     "metadata": {},
     "output_type": "execute_result"
    }
   ],
   "source": [
    "parse_qs('/jobs?q=python%20developer&l=istanbul&ts=1648656157857&rs=1&vjk=1ca2f79b63043079')"
   ]
  },
  {
   "cell_type": "code",
   "execution_count": 17,
   "id": "fad7bb04-2b22-44b1-bfa6-64bbcb215961",
   "metadata": {},
   "outputs": [
    {
     "data": {
      "text/plain": [
       "{'q': ['data scientist'],\n",
       " 'l': ['istanbul'],\n",
       " 'start': ['10'],\n",
       " 'vjk': ['7ce6f01af24663e5']}"
      ]
     },
     "execution_count": 17,
     "metadata": {},
     "output_type": "execute_result"
    }
   ],
   "source": [
    "parse_qs('q=data%20scientist&l=istanbul&start=10&vjk=7ce6f01af24663e5')"
   ]
  },
  {
   "cell_type": "code",
   "execution_count": null,
   "id": "e2d3e486-8fc1-4b3f-a1ac-b6a739feb8a4",
   "metadata": {},
   "outputs": [],
   "source": []
  }
 ],
 "metadata": {
  "kernelspec": {
   "display_name": "Python 3 (ipykernel)",
   "language": "python",
   "name": "python3"
  },
  "language_info": {
   "codemirror_mode": {
    "name": "ipython",
    "version": 3
   },
   "file_extension": ".py",
   "mimetype": "text/x-python",
   "name": "python",
   "nbconvert_exporter": "python",
   "pygments_lexer": "ipython3",
   "version": "3.8.10"
  }
 },
 "nbformat": 4,
 "nbformat_minor": 5
}
